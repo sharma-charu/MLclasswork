{
 "cells": [
  {
   "cell_type": "code",
   "execution_count": 15,
   "id": "c78fbf60-b3c2-4c33-b9c6-e86664c3166c",
   "metadata": {},
   "outputs": [],
   "source": [
    "import csv \n",
    "\n",
    "file = open('test.csv')\n",
    "all_rows = csv.reader(file)\n"
   ]
  },
  {
   "cell_type": "code",
   "execution_count": 16,
   "id": "821aaed8-f384-4b63-a12c-1bbe93c092d7",
   "metadata": {},
   "outputs": [],
   "source": [
    "data = []\n",
    "for row in all_rows:\n",
    "    data.append(row)"
   ]
  },
  {
   "cell_type": "code",
   "execution_count": 17,
   "id": "2af95133-4f75-434f-ac4b-88eb764da092",
   "metadata": {},
   "outputs": [
    {
     "name": "stdout",
     "output_type": "stream",
     "text": [
      "[['Time', 'Weather', 'Temperature', 'Company', 'Humidity', 'Wind', 'Goes'], [' Morning', 'Sunny', 'Warm', 'Yes', 'Mild', 'Strong', 'Yes'], [' Evening', 'Rainy', 'Cold', 'No', 'Mild', 'Normal', 'No'], [' Morning', 'Sunny', 'Moderate', 'Yes', 'Normal', 'Normal', 'Yes'], [' Evening', 'Sunny', 'Cold', 'Yes', 'High', 'Strong', 'Yes']]\n"
     ]
    }
   ],
   "source": [
    "print(data)"
   ]
  },
  {
   "cell_type": "code",
   "execution_count": 18,
   "id": "e66c7162-b0bb-40ee-bf62-4637d30648a6",
   "metadata": {},
   "outputs": [],
   "source": [
    "specific_hypothesis = []\n",
    "genral_hypothesis = [ ['?']*((len(data[0])-1)) for i in range((len(data[0])-1))]\n",
    "                     "
   ]
  },
  {
   "cell_type": "code",
   "execution_count": 19,
   "id": "dec04114-4336-4939-b63a-ebf75e1d2087",
   "metadata": {},
   "outputs": [
    {
     "name": "stdout",
     "output_type": "stream",
     "text": [
      "[[' Morning', '?', '?', '?', '?', '?'], ['?', 'Sunny', '?', '?', '?', '?'], ['?', '?', 'Warm', '?', '?', '?'], ['?', '?', '?', 'Yes', '?', '?'], ['?', '?', '?', '?', '?', '?'], ['?', '?', '?', '?', '?', 'Strong']]\n",
      "['?', 'Sunny', '?', 'Yes', '?', '?']\n"
     ]
    }
   ],
   "source": [
    "# for instance_index, instance in enumerate(data):\n",
    "for instance_index, instance in enumerate(data[1:]):  # skip header row\n",
    "\n",
    "    if specific_hypothesis:\n",
    "        if instance[-1] == 'Yes':    \n",
    "            for attribute_indx in range(len(specific_hypothesis)):\n",
    "                \n",
    "                if instance[attribute_indx] != specific_hypothesis[attribute_indx]:\n",
    "                    specific_hypothesis[attribute_indx] = '?' \n",
    "                if genral_hypothesis[attribute_indx][attribute_indx] != '?' and genral_hypothesis[attribute_indx][attribute_indx] != instance[attribute_indx]:\n",
    "                    # genral_hypothesis[attribute_indx]\n",
    "                    # genral_hypothesis = genral_hypothesis[:attribute_indx]\n",
    "                    pass\n",
    "        else:\n",
    "            for attribute_indx in range(len(specific_hypothesis)):\n",
    "                if instance[attribute_indx] != specific_hypothesis[attribute_indx] and specific_hypothesis!='?':\n",
    "                    genral_hypothesis[attribute_indx][attribute_indx] = specific_hypothesis[attribute_indx]\n",
    "    else:\n",
    "        specific_hypothesis = instance[:-1]\n",
    "        # print(instance[:-1], 'this')\n",
    "print(genral_hypothesis)\n",
    "print(specific_hypothesis)\n",
    "\n",
    "                    \n"
   ]
  },
  {
   "cell_type": "code",
   "execution_count": null,
   "id": "383cc8b5-d9d3-4275-9917-1bc92c3c9afa",
   "metadata": {},
   "outputs": [],
   "source": []
  },
  {
   "cell_type": "code",
   "execution_count": null,
   "id": "d0233589-9521-4a99-9338-c79719ad534c",
   "metadata": {},
   "outputs": [],
   "source": []
  }
 ],
 "metadata": {
  "kernelspec": {
   "display_name": "Python 3 (ipykernel)",
   "language": "python",
   "name": "python3"
  },
  "language_info": {
   "codemirror_mode": {
    "name": "ipython",
    "version": 3
   },
   "file_extension": ".py",
   "mimetype": "text/x-python",
   "name": "python",
   "nbconvert_exporter": "python",
   "pygments_lexer": "ipython3",
   "version": "3.12.7"
  }
 },
 "nbformat": 4,
 "nbformat_minor": 5
}
