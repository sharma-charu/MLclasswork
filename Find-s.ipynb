{
 "cells": [
  {
   "cell_type": "code",
   "execution_count": 1,
   "id": "265e111d-72a0-4947-93ed-0b87adc59dbe",
   "metadata": {},
   "outputs": [],
   "source": [
    "import pandas as pd\n",
    "import numpy as np"
   ]
  },
  {
   "cell_type": "code",
   "execution_count": 2,
   "id": "74dc5b6f-5649-43bb-804f-184283ccacba",
   "metadata": {},
   "outputs": [
    {
     "name": "stdout",
     "output_type": "stream",
     "text": [
      "       Time Weather Temperature Company Humidity    Wind Goes\n",
      "0   Morning   Sunny        Warm     Yes     Mild  Strong  Yes\n",
      "1   Evening   Rainy        Cold      No     Mild  Normal   No\n",
      "2   Morning   Sunny    Moderate     Yes   Normal  Normal  Yes\n",
      "3   Evening   Sunny        Cold     Yes     High  Strong  Yes\n"
     ]
    }
   ],
   "source": [
    "data = pd.read_csv('Find-s.csv')\n",
    "print(data)"
   ]
  },
  {
   "cell_type": "code",
   "execution_count": 7,
   "id": "38c0c026-a4d3-46ce-8d9c-bd71f327ad85",
   "metadata": {},
   "outputs": [
    {
     "name": "stdout",
     "output_type": "stream",
     "text": [
      "The attributes are: \n",
      " [[' Morning' 'Sunny' 'Warm' 'Yes' 'Mild' 'Strong']\n",
      " [' Evening' 'Rainy' 'Cold' 'No' 'Mild' 'Normal']\n",
      " [' Morning' 'Sunny' 'Moderate' 'Yes' 'Normal' 'Normal']\n",
      " [' Evening' 'Sunny' 'Cold' 'Yes' 'High' 'Strong']]\n"
     ]
    }
   ],
   "source": [
    "concepts = np.array(data)[:,:-1]\n",
    "print(\"The attributes are: \\n\",concepts)"
   ]
  },
  {
   "cell_type": "code",
   "execution_count": 8,
   "id": "c26f307d-3c81-45c8-96e5-a7f04bca6d3e",
   "metadata": {},
   "outputs": [
    {
     "name": "stdout",
     "output_type": "stream",
     "text": [
      "The target is: \n",
      " ['Yes' 'No' 'Yes' 'Yes']\n"
     ]
    }
   ],
   "source": [
    "target = np.array(data)[:,-1]\n",
    "print(\"The target is: \\n\",target)"
   ]
  },
  {
   "cell_type": "code",
   "execution_count": 33,
   "id": "bd1bfac1-9f2f-45f9-9e01-e9f83e7a5f72",
   "metadata": {},
   "outputs": [],
   "source": [
    "def train(con,tar):\n",
    "    for i, val in enumerate(tar):\n",
    "        if val == \"Yes\":\n",
    "            specific_hypothesis = con[i].copy()\n",
    "            print(\"specific_hypothesis\",specific_hypothesis)\n",
    "            break\n",
    "    for i, val in enumerate(con):\n",
    "        if tar[i] == \"Yes\":\n",
    "            print(\"Great\",i)\n",
    "            for x in range(len(specific_hypothesis)):\n",
    "                print(x)\n",
    "                if val[x] != specific_hypothesis[x]:\n",
    "                    specific_hypothesis[x] = '?'\n",
    "                else:\n",
    "                    pass\n",
    "    return specific_hypothesis"
   ]
  },
  {
   "cell_type": "code",
   "execution_count": 34,
   "id": "c6fac16f-f912-4dc6-847d-874b0460efa7",
   "metadata": {},
   "outputs": [
    {
     "name": "stdout",
     "output_type": "stream",
     "text": [
      "specific_hypothesis [' Morning' 'Sunny' 'Warm' 'Yes' 'Mild' 'Strong']\n",
      "Great 0\n",
      "0\n",
      "1\n",
      "2\n",
      "3\n",
      "4\n",
      "5\n",
      "Great 2\n",
      "0\n",
      "1\n",
      "2\n",
      "3\n",
      "4\n",
      "5\n",
      "Great 3\n",
      "0\n",
      "1\n",
      "2\n",
      "3\n",
      "4\n",
      "5\n",
      "['?' 'Sunny' '?' 'Yes' '?' '?']\n"
     ]
    }
   ],
   "source": [
    "print(train(concepts,target))"
   ]
  },
  {
   "cell_type": "code",
   "execution_count": null,
   "id": "9cee4722-c42e-4c67-9073-fcb394cc977e",
   "metadata": {},
   "outputs": [],
   "source": []
  },
  {
   "cell_type": "code",
   "execution_count": null,
   "id": "5c91cc75-507f-4088-afbb-daaf9f67b8c2",
   "metadata": {},
   "outputs": [],
   "source": []
  }
 ],
 "metadata": {
  "kernelspec": {
   "display_name": "Python 3 (ipykernel)",
   "language": "python",
   "name": "python3"
  },
  "language_info": {
   "codemirror_mode": {
    "name": "ipython",
    "version": 3
   },
   "file_extension": ".py",
   "mimetype": "text/x-python",
   "name": "python",
   "nbconvert_exporter": "python",
   "pygments_lexer": "ipython3",
   "version": "3.12.7"
  }
 },
 "nbformat": 4,
 "nbformat_minor": 5
}
